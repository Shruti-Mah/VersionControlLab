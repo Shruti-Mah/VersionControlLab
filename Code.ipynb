{
 "cells": [
  {
   "cell_type": "code",
   "execution_count": 6,
   "id": "a2313a20-c159-428f-ab0a-c61149f2b074",
   "metadata": {},
   "outputs": [
    {
     "name": "stdin",
     "output_type": "stream",
     "text": [
      "Enter your name Mason\n",
      "Enter your height in inches 67\n"
     ]
    },
    {
     "name": "stdout",
     "output_type": "stream",
     "text": [
      "Hello Mason , you are 5 feet 7 inch(es)\n"
     ]
    }
   ],
   "source": [
    "name = input(\"Enter your name\")\n",
    "heightIn = int(input(\"Enter your height in inches\"))\n",
    "heightFt = int(heightIn/12)\n",
    "remainIn = heightIn%12\n",
    "print(\"Hello\", name,\", you are\",heightFt, \"feet\", remainIn,\"inch(es)\")"
   ]
  },
  {
   "cell_type": "code",
   "execution_count": null,
   "id": "5550092b-733b-48ac-bc5e-ff5260672604",
   "metadata": {},
   "outputs": [],
   "source": []
  }
 ],
 "metadata": {
  "kernelspec": {
   "display_name": "Python 3 (ipykernel)",
   "language": "python",
   "name": "python3"
  },
  "language_info": {
   "codemirror_mode": {
    "name": "ipython",
    "version": 3
   },
   "file_extension": ".py",
   "mimetype": "text/x-python",
   "name": "python",
   "nbconvert_exporter": "python",
   "pygments_lexer": "ipython3",
   "version": "3.11.13"
  }
 },
 "nbformat": 4,
 "nbformat_minor": 5
}
